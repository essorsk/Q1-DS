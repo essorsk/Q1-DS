{
 "cells": [
  {
   "cell_type": "markdown",
   "metadata": {},
   "source": [
    "### Работа с библиотеками эксель\n",
    "Вебинар https://geekbrains.ru/events/1328"
   ]
  },
  {
   "cell_type": "code",
   "execution_count": 2,
   "metadata": {},
   "outputs": [
    {
     "name": "stdout",
     "output_type": "stream",
     "text": [
      "Collecting package metadata (repodata.json): ...working... done\n",
      "Solving environment: ...working... done\n",
      "\n",
      "## Package Plan ##\n",
      "\n",
      "  environment location: C:\\Users\\Sony\\Anaconda3\n",
      "\n",
      "  added / updated specs:\n",
      "    - xlutils\n",
      "\n",
      "\n",
      "The following packages will be downloaded:\n",
      "\n",
      "    package                    |            build\n",
      "    ---------------------------|-----------------\n",
      "    ca-certificates-2019.1.23  |                0         158 KB\n",
      "    certifi-2019.3.9           |           py37_0         155 KB\n",
      "    conda-4.8.0                |           py37_1         3.1 MB\n",
      "    openssl-1.1.1b             |       he774522_1         5.7 MB\n",
      "    xlutils-2.0.0              |           py37_1          94 KB\n",
      "    ------------------------------------------------------------\n",
      "                                           Total:         9.2 MB\n",
      "\n",
      "The following NEW packages will be INSTALLED:\n",
      "\n",
      "  xlutils            pkgs/main/win-64::xlutils-2.0.0-py37_1\n",
      "\n",
      "The following packages will be UPDATED:\n",
      "\n",
      "  conda                       anaconda::conda-4.7.12-py37_0 --> pkgs/main::conda-4.8.0-py37_1\n",
      "\n",
      "The following packages will be SUPERSEDED by a higher-priority channel:\n",
      "\n",
      "  ca-certificates                                  anaconda --> pkgs/main\n",
      "  certifi                                          anaconda --> pkgs/main\n",
      "  openssl                                          anaconda --> pkgs/main\n",
      "\n",
      "\n",
      "\n",
      "Downloading and Extracting Packages\n",
      "\n",
      "openssl-1.1.1b       | 5.7 MB    |            |   0% \n",
      "openssl-1.1.1b       | 5.7 MB    |            |   0% \n",
      "openssl-1.1.1b       | 5.7 MB    | 1          |   2% \n",
      "openssl-1.1.1b       | 5.7 MB    | 3          |   4% \n",
      "openssl-1.1.1b       | 5.7 MB    | 8          |   8% \n",
      "openssl-1.1.1b       | 5.7 MB    | #1         |  12% \n",
      "openssl-1.1.1b       | 5.7 MB    | #4         |  14% \n",
      "openssl-1.1.1b       | 5.7 MB    | #6         |  17% \n",
      "openssl-1.1.1b       | 5.7 MB    | ##         |  20% \n",
      "openssl-1.1.1b       | 5.7 MB    | ##3        |  24% \n",
      "openssl-1.1.1b       | 5.7 MB    | ##6        |  27% \n",
      "openssl-1.1.1b       | 5.7 MB    | ###        |  30% \n",
      "openssl-1.1.1b       | 5.7 MB    | ###3       |  34% \n",
      "openssl-1.1.1b       | 5.7 MB    | ###7       |  37% \n",
      "openssl-1.1.1b       | 5.7 MB    | ####       |  40% \n",
      "openssl-1.1.1b       | 5.7 MB    | ####4      |  44% \n",
      "openssl-1.1.1b       | 5.7 MB    | ####7      |  48% \n",
      "openssl-1.1.1b       | 5.7 MB    | #####1     |  51% \n",
      "openssl-1.1.1b       | 5.7 MB    | #####4     |  55% \n",
      "openssl-1.1.1b       | 5.7 MB    | #####8     |  59% \n",
      "openssl-1.1.1b       | 5.7 MB    | ######2    |  63% \n",
      "openssl-1.1.1b       | 5.7 MB    | ######6    |  66% \n",
      "openssl-1.1.1b       | 5.7 MB    | #######    |  70% \n",
      "openssl-1.1.1b       | 5.7 MB    | #######3   |  74% \n",
      "openssl-1.1.1b       | 5.7 MB    | #######7   |  77% \n",
      "openssl-1.1.1b       | 5.7 MB    | ########1  |  81% \n",
      "openssl-1.1.1b       | 5.7 MB    | ########4  |  85% \n",
      "openssl-1.1.1b       | 5.7 MB    | ########8  |  88% \n",
      "openssl-1.1.1b       | 5.7 MB    | #########1 |  92% \n",
      "openssl-1.1.1b       | 5.7 MB    | #########5 |  95% \n",
      "openssl-1.1.1b       | 5.7 MB    | #########9 |  99% \n",
      "openssl-1.1.1b       | 5.7 MB    | ########## | 100% \n",
      "\n",
      "ca-certificates-2019 | 158 KB    |            |   0% \n",
      "ca-certificates-2019 | 158 KB    | #          |  10% \n",
      "ca-certificates-2019 | 158 KB    | #####      |  51% \n",
      "ca-certificates-2019 | 158 KB    | #########1 |  91% \n",
      "ca-certificates-2019 | 158 KB    | ########## | 100% \n",
      "\n",
      "xlutils-2.0.0        | 94 KB     |            |   0% \n",
      "xlutils-2.0.0        | 94 KB     | #7         |  17% \n",
      "xlutils-2.0.0        | 94 KB     | ########## | 100% \n",
      "\n",
      "certifi-2019.3.9     | 155 KB    |            |   0% \n",
      "certifi-2019.3.9     | 155 KB    | #          |  10% \n",
      "certifi-2019.3.9     | 155 KB    | #######2   |  72% \n",
      "certifi-2019.3.9     | 155 KB    | ########## | 100% \n",
      "\n",
      "conda-4.8.0          | 3.1 MB    |            |   0% \n",
      "conda-4.8.0          | 3.1 MB    |            |   1% \n",
      "conda-4.8.0          | 3.1 MB    | 8          |   8% \n",
      "conda-4.8.0          | 3.1 MB    | #4         |  15% \n",
      "conda-4.8.0          | 3.1 MB    | ##1        |  21% \n",
      "conda-4.8.0          | 3.1 MB    | ##8        |  28% \n",
      "conda-4.8.0          | 3.1 MB    | ###4       |  35% \n",
      "conda-4.8.0          | 3.1 MB    | ####1      |  41% \n",
      "conda-4.8.0          | 3.1 MB    | ####7      |  48% \n",
      "conda-4.8.0          | 3.1 MB    | #####4     |  54% \n",
      "conda-4.8.0          | 3.1 MB    | ######1    |  61% \n",
      "conda-4.8.0          | 3.1 MB    | ######7    |  68% \n",
      "conda-4.8.0          | 3.1 MB    | #######4   |  74% \n",
      "conda-4.8.0          | 3.1 MB    | ########   |  81% \n",
      "conda-4.8.0          | 3.1 MB    | ########7  |  88% \n",
      "conda-4.8.0          | 3.1 MB    | #########4 |  95% \n",
      "conda-4.8.0          | 3.1 MB    | ########## | 100% \n",
      "Preparing transaction: ...working... done\n",
      "Verifying transaction: ...working... done\n",
      "Executing transaction: ...working... done\n",
      "\n",
      "Note: you may need to restart the kernel to use updated packages.\n"
     ]
    }
   ],
   "source": [
    "conda install xlutils"
   ]
  },
  {
   "cell_type": "code",
   "execution_count": 3,
   "metadata": {},
   "outputs": [],
   "source": [
    "import xlrd\n",
    "import xlwt\n",
    "import xlutils"
   ]
  },
  {
   "cell_type": "code",
   "execution_count": 4,
   "metadata": {},
   "outputs": [],
   "source": [
    "from datetime import datetime"
   ]
  },
  {
   "cell_type": "code",
   "execution_count": null,
   "metadata": {},
   "outputs": [],
   "source": [
    "# Open file\n",
    "\n",
    "xls_book = xlrd.open_workbook('order.xls')\n",
    "\n",
    "# Choose sheet by index\n",
    "\n",
    "xls_sheet = xls_book.sheet_by_index(0)\n",
    "\n",
    "#Variant by sheet name\n",
    "\n",
    "#xls_sheet = xls_book.sheet_by_name('Sales')\n",
    "\n",
    "#print each string\n",
    "for row_num in range(xls_sheet.nrows):\n",
    "    print(xls_sheet.row_values(row_num))\n"
   ]
  },
  {
   "cell_type": "code",
   "execution_count": 5,
   "metadata": {},
   "outputs": [],
   "source": [
    "#Parse excel\n",
    "\n",
    "def parse_excel(sheet):\n",
    "    #parse title\n",
    "    headers = sheet.row_values(0)\n",
    "    set_customer = set()\n",
    "    \n",
    "    units = {}\n",
    "    \n",
    "    for row_ind in range(1, sheet.nrows):\n",
    "        #access to columns by name\n",
    "        row_data = dict(zip(headers, sheet.row_values(row_ind)))\n",
    "        #print(row_data)\n",
    "        \n",
    "        #Parse data\n",
    "        if xlrd.xldate_as_datetime(\n",
    "                row_data['OrderDate'], datemode=xls_book.datemode) \\\n",
    "                > datetime(2019, 10, 1):\n",
    "            set_customer.add(row_data['Customer'])\n",
    "            if not units.get(row_data['Items']):\n",
    "                units[row_data['Item']] = row_data['Units']\n",
    "            else:\n",
    "                units[row_data['Items']] += row_data['Units']\n",
    "            \n",
    "            #print(set_customer)\n",
    "            print(units)\n",
    "        \n",
    "        \n",
    "        \n",
    "        "
   ]
  },
  {
   "cell_type": "code",
   "execution_count": null,
   "metadata": {},
   "outputs": [],
   "source": [
    "parse_excel(xls_sheet)"
   ]
  },
  {
   "cell_type": "code",
   "execution_count": null,
   "metadata": {},
   "outputs": [],
   "source": [
    "#Создаем объект, добавляем новый лист и записываем ячейки\n",
    "\n",
    "work_book = xlwt.Workbook()\n",
    "work_sheet = work_book.add_sheet('My sheet')\n",
    "\n",
    "work_sheet.write(r, c, label = \"\", style=Style.default_style)"
   ]
  },
  {
   "cell_type": "code",
   "execution_count": 6,
   "metadata": {},
   "outputs": [],
   "source": [
    "from xlutils.copy import copy"
   ]
  },
  {
   "cell_type": "code",
   "execution_count": null,
   "metadata": {},
   "outputs": [],
   "source": [
    "work_book = xlrd.open_workbook('orders_copy.xls', formatting_info=True)\n",
    "new_book = copy(work_book)\n",
    "new_book.get_sheet(0).write(0, 0, 'Date')\n",
    "new_book.save('order_copy_.xls')"
   ]
  },
  {
   "cell_type": "code",
   "execution_count": null,
   "metadata": {},
   "outputs": [],
   "source": [
    "order = [datetime(2020, 1, 1), 'Central', 'Dodje', 'Pen', 2, 22, 44]"
   ]
  },
  {
   "cell_type": "code",
   "execution_count": null,
   "metadata": {},
   "outputs": [],
   "source": [
    "def add_new_order(xls_file):\n",
    "    work_book = xlrd.open_workbook(xls_file, formatting_info=True)\n",
    "    new_book = copy(work_book)\n",
    "    old_sheet = work_book.sheet_by_index(0)\n",
    "    \n",
    "    for row in range(len(order)):\n",
    "        new_book.get_sheet(0).write(old_sheet.nrows, row, order[row])\n",
    "    new_book.save('orders_copy_final.xls')"
   ]
  },
  {
   "cell_type": "code",
   "execution_count": null,
   "metadata": {},
   "outputs": [],
   "source": [
    "add_new_order('orders.xls')"
   ]
  },
  {
   "cell_type": "code",
   "execution_count": null,
   "metadata": {},
   "outputs": [],
   "source": [
    "def add_new_order_with_styles(xls_file):\n",
    "    font = xlwt.Font()\n",
    "    font.name = 'Calibri'\n",
    "    font.height = 240\n",
    "    style = xlwt.XFStyle()\n",
    "    style.font = font\n",
    "    \n",
    "    date_style = xlwt.XFStyle()\n",
    "    date_style.num_format_str = 'DD.MM.YYYY'\n",
    "    date_style.font = font\n",
    "    \n",
    "    work_book = xlrd.open_workbook(xls_file, formatting_info=True)\n",
    "    new_book = copy(work_book)\n",
    "    old_sheet = work_book.sheet_by_index(0)\n",
    "    \n",
    "    new_book.get_sheet(0).write(old_sheet.nrows, 0, datetime.now(), date_style)\n",
    "    for row in range(len(order)-1):\n",
    "        new_book.get_sheet(0).write(old_sheet.nrows,row+1, order[1:][row], style)\n",
    "    new_book.save('orders_copy_final.xls')\n",
    "    "
   ]
  },
  {
   "cell_type": "code",
   "execution_count": null,
   "metadata": {},
   "outputs": [],
   "source": [
    "add_new_order_with_styles('orders.xls')"
   ]
  },
  {
   "cell_type": "code",
   "execution_count": null,
   "metadata": {},
   "outputs": [],
   "source": []
  },
  {
   "cell_type": "code",
   "execution_count": null,
   "metadata": {},
   "outputs": [],
   "source": []
  },
  {
   "cell_type": "code",
   "execution_count": null,
   "metadata": {},
   "outputs": [],
   "source": []
  },
  {
   "cell_type": "code",
   "execution_count": null,
   "metadata": {},
   "outputs": [],
   "source": []
  },
  {
   "cell_type": "code",
   "execution_count": null,
   "metadata": {},
   "outputs": [],
   "source": []
  },
  {
   "cell_type": "code",
   "execution_count": null,
   "metadata": {},
   "outputs": [],
   "source": []
  },
  {
   "cell_type": "code",
   "execution_count": null,
   "metadata": {},
   "outputs": [],
   "source": []
  },
  {
   "cell_type": "code",
   "execution_count": null,
   "metadata": {},
   "outputs": [],
   "source": []
  },
  {
   "cell_type": "code",
   "execution_count": null,
   "metadata": {},
   "outputs": [],
   "source": []
  }
 ],
 "metadata": {
  "kernelspec": {
   "display_name": "Python 3",
   "language": "python",
   "name": "python3"
  },
  "language_info": {
   "codemirror_mode": {
    "name": "ipython",
    "version": 3
   },
   "file_extension": ".py",
   "mimetype": "text/x-python",
   "name": "python",
   "nbconvert_exporter": "python",
   "pygments_lexer": "ipython3",
   "version": "3.7.3"
  }
 },
 "nbformat": 4,
 "nbformat_minor": 2
}

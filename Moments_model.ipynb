{
 "cells": [
  {
   "cell_type": "markdown",
   "metadata": {},
   "source": [
    "### Percentile\n",
    "### Moments: Mean, Variance, Skew, Curtosis"
   ]
  },
  {
   "cell_type": "code",
   "execution_count": 1,
   "metadata": {},
   "outputs": [],
   "source": [
    "%matplotlib inline\n",
    "import numpy as np\n",
    "import scipy.stats as sp\n",
    "import matplotlib.pyplot as plt"
   ]
  },
  {
   "cell_type": "markdown",
   "metadata": {},
   "source": [
    "#### Function Moments simulate random normal distributed dataset, calculate statistics parameters: given percentil & moments "
   ]
  },
  {
   "cell_type": "code",
   "execution_count": 3,
   "metadata": {},
   "outputs": [],
   "source": [
    "def moments(center, std_, dataset):\n",
    "    vals = np.random.normal(center, std_, dataset)\n",
    "    plt.hist(vals, 50)\n",
    "    plt.title('Random normal distribution')\n",
    "    plt.show()\n",
    "    print(f'20% percentile is {np.percentile(vals, 20):.2f}')\n",
    "    print(f'50% percentile is {np.percentile(vals, 50):.2f}')\n",
    "    print(f'90% percentile is {np.percentile(vals, 90):.2f}')\n",
    "    print('Moments for given model are:')\n",
    "    print(f'Mean: {np.mean(vals):.3f}')\n",
    "    print(f'Variance: {np.var(vals):.3f}')\n",
    "    print(f'Skew: {sp.skew(vals):.3f}')\n",
    "    print(f'Kurtosis: {sp.kurtosis(vals):.3f}')\n",
    "          "
   ]
  },
  {
   "cell_type": "code",
   "execution_count": 4,
   "metadata": {},
   "outputs": [
    {
     "data": {
      "image/png": "[encoded data removed]",
      "text/plain": [
       "<Figure size 432x288 with 1 Axes>"
      ]
     },
     "metadata": {
      "needs_background": "light"
     },
     "output_type": "display_data"
    },
    {
     "name": "stdout",
     "output_type": "stream",
     "text": [
      "20% percentile is -0.42\n",
      "50% percentile is -0.00\n",
      "90% percentile is 0.65\n",
      "Moments for given model are:\n",
      "Mean: -0.001\n",
      "Variance: 0.255\n",
      "Skew: 0.007\n",
      "Kurtosis: 0.059\n"
     ]
    }
   ],
   "source": [
    "moments(0, 0.5, 10000)"
   ]
  },
  {
   "cell_type": "code",
   "execution_count": 5,
   "metadata": {},
   "outputs": [
    {
     "data": {
      "image/png": "[encoded data removed]",
      "text/plain": [
       "<Figure size 432x288 with 1 Axes>"
      ]
     },
     "metadata": {
      "needs_background": "light"
     },
     "output_type": "display_data"
    },
    {
     "name": "stdout",
     "output_type": "stream",
     "text": [
      "20% percentile is 4.75\n",
      "50% percentile is 5.00\n",
      "90% percentile is 5.38\n",
      "Moments for given model are:\n",
      "Mean: 5.002\n",
      "Variance: 0.088\n",
      "Skew: -0.004\n",
      "Kurtosis: 0.014\n"
     ]
    }
   ],
   "source": [
    "moments(5, 0.3, 10000)"
   ]
  },
  {
   "cell_type": "code",
   "execution_count": 6,
   "metadata": {},
   "outputs": [
    {
     "data": {
      "image/png": "[encoded data removed]",
      "text/plain": [
       "<Figure size 432x288 with 1 Axes>"
      ]
     },
     "metadata": {
      "needs_background": "light"
     },
     "output_type": "display_data"
    },
    {
     "name": "stdout",
     "output_type": "stream",
     "text": [
      "20% percentile is -0.09\n",
      "50% percentile is -0.00\n",
      "90% percentile is 0.13\n",
      "Moments for given model are:\n",
      "Mean: -0.001\n",
      "Variance: 0.010\n",
      "Skew: 0.001\n",
      "Kurtosis: 0.073\n"
     ]
    }
   ],
   "source": [
    "moments(0, 0.1, 10000)"
   ]
  },
  {
   "cell_type": "code",
   "execution_count": null,
   "metadata": {},
   "outputs": [],
   "source": []
  },
  {
   "cell_type": "code",
   "execution_count": null,
   "metadata": {},
   "outputs": [],
   "source": []
  },
  {
   "cell_type": "code",
   "execution_count": null,
   "metadata": {},
   "outputs": [],
   "source": []
  }
 ],
 "metadata": {
  "kernelspec": {
   "display_name": "Python 3",
   "language": "python",
   "name": "python3"
  },
  "language_info": {
   "codemirror_mode": {
    "name": "ipython",
    "version": 3
   },
   "file_extension": ".py",
   "mimetype": "text/x-python",
   "name": "python",
   "nbconvert_exporter": "python",
   "pygments_lexer": "ipython3",
   "version": "3.7.3"
  }
 },
 "nbformat": 4,
 "nbformat_minor": 2
}
